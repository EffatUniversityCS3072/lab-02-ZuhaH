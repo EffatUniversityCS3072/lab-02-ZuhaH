{
 "cells": [
  {
   "cell_type": "code",
   "execution_count": 1,
   "id": "c3082c5f-a0f5-4811-ba9a-d5a2515602ad",
   "metadata": {},
   "outputs": [],
   "source": [
    "import numpy as np\n",
    "\n",
    "zeros = np.zeros(10)"
   ]
  },
  {
   "cell_type": "code",
   "execution_count": 3,
   "id": "7f1be045-e6d1-4ec4-97eb-62e77f548f81",
   "metadata": {},
   "outputs": [],
   "source": [
    "vowels = np.array(['a', 'e', 'i', 'o', 'u'])"
   ]
  },
  {
   "cell_type": "code",
   "execution_count": 5,
   "id": "9d5c4f30-9f40-4523-a964-fdc1e98116ee",
   "metadata": {},
   "outputs": [],
   "source": [
    "ones = np.ones((2, 5), dtype=int)"
   ]
  },
  {
   "cell_type": "code",
   "execution_count": 7,
   "id": "7d34c885-c947-45af-9ca1-7b3fe607d043",
   "metadata": {},
   "outputs": [],
   "source": [
    "myarray1 = np.array([[2.7, 0, -2], [3.4, 10.6, 0], [-19, 99.9, 13]])"
   ]
  },
  {
   "cell_type": "code",
   "execution_count": 9,
   "id": "70fc53d0-124d-4133-a9d2-0ef306711500",
   "metadata": {},
   "outputs": [],
   "source": [
    "myarray2 = np.arange(4, 4 * 15 + 1, 4, dtype=float).reshape(3, 5)\n"
   ]
  },
  {
   "cell_type": "code",
   "execution_count": 11,
   "id": "cae4f0f2-fc65-4d64-85c4-416dc68b777f",
   "metadata": {},
   "outputs": [
    {
     "name": "stdout",
     "output_type": "stream",
     "text": [
      "Array: [0. 0. 0. 0. 0. 0. 0. 0. 0. 0.]\n",
      "Dimensions: 1\n",
      "Shape: (10,)\n",
      "Size: 10\n",
      "Data Type: float64\n",
      "Item Size: 8\n",
      "\n",
      "Array: ['a' 'e' 'i' 'o' 'u']\n",
      "Dimensions: 1\n",
      "Shape: (5,)\n",
      "Size: 5\n",
      "Data Type: <U1\n",
      "Item Size: 4\n",
      "\n",
      "Array: [[1 1 1 1 1]\n",
      " [1 1 1 1 1]]\n",
      "Dimensions: 2\n",
      "Shape: (2, 5)\n",
      "Size: 10\n",
      "Data Type: int32\n",
      "Item Size: 4\n",
      "\n",
      "Array: [[  2.7   0.   -2. ]\n",
      " [  3.4  10.6   0. ]\n",
      " [-19.   99.9  13. ]]\n",
      "Dimensions: 2\n",
      "Shape: (3, 3)\n",
      "Size: 9\n",
      "Data Type: float64\n",
      "Item Size: 8\n",
      "\n",
      "Array: [[ 4.  8. 12. 16. 20.]\n",
      " [24. 28. 32. 36. 40.]\n",
      " [44. 48. 52. 56. 60.]]\n",
      "Dimensions: 2\n",
      "Shape: (3, 5)\n",
      "Size: 15\n",
      "Data Type: float64\n",
      "Item Size: 8\n",
      "\n"
     ]
    }
   ],
   "source": [
    "arrays = [zeros, vowels, ones, myarray1, myarray2]\n",
    "for arr in arrays:\n",
    "    print(f\"Array: {arr}\")\n",
    "    print(\"Dimensions:\", arr.ndim)\n",
    "    print(\"Shape:\", arr.shape)\n",
    "    print(\"Size:\", arr.size)\n",
    "    print(\"Data Type:\", arr.dtype)\n",
    "    print(\"Item Size:\", arr.itemsize)\n",
    "    print()"
   ]
  },
  {
   "cell_type": "code",
   "execution_count": 13,
   "id": "bead30b9-14bf-4a77-b7a3-a45013967060",
   "metadata": {},
   "outputs": [],
   "source": [
    "ones_reshaped = ones.reshape(1, 10)"
   ]
  },
  {
   "cell_type": "code",
   "execution_count": 15,
   "id": "dd50916c-6a59-4af7-b0ff-ee07bbef21f6",
   "metadata": {},
   "outputs": [
    {
     "name": "stdout",
     "output_type": "stream",
     "text": [
      "['e' 'i']\n"
     ]
    }
   ],
   "source": [
    "print(vowels[1:3])\n"
   ]
  },
  {
   "cell_type": "code",
   "execution_count": 17,
   "id": "27167a28-86cc-4fcf-b3e1-a8a1614d38f1",
   "metadata": {},
   "outputs": [
    {
     "name": "stdout",
     "output_type": "stream",
     "text": [
      "['e' 'i']\n"
     ]
    }
   ],
   "source": [
    "print(vowels[1:3])\n"
   ]
  },
  {
   "cell_type": "code",
   "execution_count": 19,
   "id": "ff33170b-a391-4fe2-9b86-daeb586a231f",
   "metadata": {},
   "outputs": [
    {
     "name": "stdout",
     "output_type": "stream",
     "text": [
      "[[  3.4  10.6   0. ]\n",
      " [-19.   99.9  13. ]]\n"
     ]
    }
   ],
   "source": [
    "print(myarray1[1:3, :])"
   ]
  },
  {
   "cell_type": "code",
   "execution_count": 21,
   "id": "471831d8-acc9-45d3-baf4-252da67e9756",
   "metadata": {},
   "outputs": [
    {
     "name": "stdout",
     "output_type": "stream",
     "text": [
      "[[  2.7   0. ]\n",
      " [  3.4  10.6]\n",
      " [-19.   99.9]]\n"
     ]
    }
   ],
   "source": [
    "print(myarray1[:, 0:2])"
   ]
  },
  {
   "cell_type": "code",
   "execution_count": 23,
   "id": "eea935d5-e578-4af8-b810-df034d4cfe66",
   "metadata": {},
   "outputs": [
    {
     "name": "stdout",
     "output_type": "stream",
     "text": [
      "[  3.4 -19. ]\n"
     ]
    }
   ],
   "source": [
    "print(myarray1[1:3, 0])"
   ]
  },
  {
   "cell_type": "code",
   "execution_count": 25,
   "id": "ca93dc75-5437-4a39-8705-57e81945af7f",
   "metadata": {},
   "outputs": [],
   "source": [
    "vowels_reversed = vowels[::-1]"
   ]
  },
  {
   "cell_type": "code",
   "execution_count": 33,
   "id": "683bc445-25a0-408c-bec6-31637bb81846",
   "metadata": {},
   "outputs": [
    {
     "name": "stdout",
     "output_type": "stream",
     "text": [
      "Array attributes:\n",
      "zeros - dim: 1, shape: (10,), size: 10, dtype: float64, itemsize: 8\n",
      "vowels - dim: 1, shape: (5,), size: 5, dtype: <U1, itemsize: 4\n",
      "ones - dim: 2, shape: (2, 5), size: 10, dtype: int32, itemsize: 4\n",
      "myarray1 - dim: 2, shape: (3, 3), size: 9, dtype: float64, itemsize: 8\n",
      "myarray2 - dim: 2, shape: (3, 5), size: 15, dtype: float64, itemsize: 8\n",
      "Reshaped ones:\n",
      " [[1 1 1 1 1 1 1 1 1 1]]\n",
      "2nd and 3rd elements of vowels: ['e' 'i']\n",
      "Elements in the 2nd and 3rd rows of myarray1:\n",
      " [[  3.4  10.6   0. ]\n",
      " [-19.   99.9  13. ]]\n",
      "Elements in the 1st and 2nd columns of myarray1:\n",
      " [[  2.7   0. ]\n",
      " [  3.4  10.6]\n",
      " [-19.   99.9]]\n",
      "Elements in the 1st column of the 2nd and 3rd rows of myarray1:\n",
      " [  3.4 -19. ]\n",
      "Reversed vowels array: ['u' 'o' 'i' 'e' 'a']\n",
      "ones divided by 3:\n",
      " [[0.33333333 0.33333333 0.33333333 0.33333333 0.33333333]\n",
      " [0.33333333 0.33333333 0.33333333 0.33333333 0.33333333]]\n",
      "Padded myarray1:\n",
      " [[  2.7   0.   -2.    0.    0. ]\n",
      " [  3.4  10.6   0.    0.    0. ]\n",
      " [-19.   99.9  13.    0.    0. ]]\n",
      "Addition of myarray1 and myarray2:\n",
      " [[  6.7   8.   10.   16.   20. ]\n",
      " [ 27.4  38.6  32.   36.   40. ]\n",
      " [ 25.  147.9  65.   56.   60. ]]\n",
      "Subtraction of myarray1 from myarray2:\n",
      " [[  1.3   8.   14.   16.   20. ]\n",
      " [ 20.6  17.4  32.   36.   40. ]\n",
      " [ 63.  -51.9  39.   56.   60. ]]\n",
      "Elementwise multiplication of myarray1 and myarray2:\n",
      " [[  10.8    0.   -24.     0.     0. ]\n",
      " [  81.6  296.8    0.     0.     0. ]\n",
      " [-836.  4795.2  676.     0.     0. ]]\n",
      "Matrix multiplication result:\n",
      " [[ 37.38704628 103.94138422 170.49572216]\n",
      " [ 26.04718088  81.86924492 137.69130895]\n",
      " [ 37.60592458 102.23073433 166.85554407]]\n",
      "Division of myarray1 by myarray2:\n",
      " [[ 0.675       0.         -0.16666667  0.          0.        ]\n",
      " [ 0.14166667  0.37857143  0.          0.          0.        ]\n",
      " [-0.43181818  2.08125     0.25        0.          0.        ]]\n",
      "Cubed myarray1 divided by 2:\n",
      " [[ 9.841500e+00  0.000000e+00 -4.000000e+00]\n",
      " [ 1.965200e+01  5.955080e+02  0.000000e+00]\n",
      " [-3.429500e+03  4.985015e+05  1.098500e+03]]\n",
      "Square root of myarray2 divided by 2:\n",
      " [[1.   1.41 1.73 2.   2.24]\n",
      " [2.45 2.65 2.83 3.   3.16]\n",
      " [3.32 3.46 3.61 3.74 3.87]]\n"
     ]
    }
   ],
   "source": [
    "import numpy as np\n",
    "\n",
    "zeros = np.zeros(10)\n",
    "\n",
    "vowels = np.array(['a', 'e', 'i', 'o', 'u'])\n",
    "\n",
    "ones = np.ones((2, 5), dtype=int)\n",
    "\n",
    "myarray1 = np.array([[2.7, 0, -2], [3.4, 10.6, 0], [-19, 99.9, 13]])\n",
    "\n",
    "myarray2 = np.arange(4, 64, 4, dtype=float).reshape(3, 5) \n",
    "\n",
    "print(\"Array attributes:\")\n",
    "for arr, name in zip([zeros, vowels, ones, myarray1, myarray2],\n",
    "                     [\"zeros\", \"vowels\", \"ones\", \"myarray1\", \"myarray2\"]):\n",
    "    print(f\"{name} - dim: {arr.ndim}, shape: {arr.shape}, size: {arr.size}, \"\n",
    "          f\"dtype: {arr.dtype}, itemsize: {arr.itemsize}\")\n",
    "\n",
    "ones_reshaped = ones.reshape(1, -1)\n",
    "print(\"Reshaped ones:\\n\", ones_reshaped)\n",
    "\n",
    "print(\"2nd and 3rd elements of vowels:\", vowels[1:3])\n",
    "print(\"Elements in the 2nd and 3rd rows of myarray1:\\n\", myarray1[1:3])\n",
    "print(\"Elements in the 1st and 2nd columns of myarray1:\\n\", myarray1[:, :2])\n",
    "print(\"Elements in the 1st column of the 2nd and 3rd rows of myarray1:\\n\", myarray1[1:3, 0])\n",
    "print(\"Reversed vowels array:\", vowels[::-1])\n",
    "\n",
    "ones_divided = ones / 3\n",
    "print(\"ones divided by 3:\\n\", ones_divided)\n",
    "\n",
    "myarray1_padded = np.pad(myarray1, ((0, 0), (0, 2)), mode='constant')\n",
    "print(\"Padded myarray1:\\n\", myarray1_padded)\n",
    "\n",
    "add_arrays = myarray1_padded + myarray2\n",
    "print(\"Addition of myarray1 and myarray2:\\n\", add_arrays)\n",
    "\n",
    "subtract_arrays = myarray2 - myarray1_padded\n",
    "print(\"Subtraction of myarray1 from myarray2:\\n\", subtract_arrays)\n",
    "\n",
    "multiply_arrays = myarray1_padded * myarray2\n",
    "print(\"Elementwise multiplication of myarray1 and myarray2:\\n\", multiply_arrays)\n",
    "\n",
    "myarray1_matrix = np.random.rand(3, 5)  \n",
    "myarray3 = np.dot(myarray1_matrix, myarray2.T)\n",
    "print(\"Matrix multiplication result:\\n\", myarray3)\n",
    "\n",
    "division_arrays = np.divide(myarray1_padded, myarray2, out=np.zeros_like(myarray1_padded), where=myarray2!=0)\n",
    "print(\"Division of myarray1 by myarray2:\\n\", division_arrays)\n",
    "\n",
    "cubed_myarray1 = np.power(myarray1, 3) / 2\n",
    "print(\"Cubed myarray1 divided by 2:\\n\", cubed_myarray1)\n",
    "\n",
    "sqrt_myarray2 = np.round(np.sqrt(myarray2) / 2, 2)\n",
    "print(\"Square root of myarray2 divided by 2:\\n\", sqrt_myarray2)\n"
   ]
  },
  {
   "cell_type": "code",
   "execution_count": 35,
   "id": "dfb6e4ad-1372-4156-9df9-fc14d1a6551e",
   "metadata": {},
   "outputs": [
    {
     "name": "stdout",
     "output_type": "stream",
     "text": [
      "Transpose of ones:\n",
      " [[1 1]\n",
      " [1 1]\n",
      " [1 1]\n",
      " [1 1]\n",
      " [1 1]]\n",
      "Transpose of myarray2:\n",
      " [[ 4. 24. 44.]\n",
      " [ 8. 28. 48.]\n",
      " [12. 32. 52.]\n",
      " [16. 36. 56.]\n",
      " [20. 40. 60.]]\n",
      "Sorted vowels in reverse order: ['u' 'o' 'i' 'e' 'a']\n",
      "Sorted myarray1 with the lowest values in the first row:\n",
      " [[-19.    0.   -2. ]\n",
      " [  2.7  10.6   0. ]\n",
      " [  3.4  99.9  13. ]]\n",
      "myarray4:\n",
      " [[-1.   -0.75 -0.5 ]\n",
      " [-0.25  0.    0.25]\n",
      " [ 0.5   0.75  1.  ]\n",
      " [ 1.25  1.5   1.75]\n",
      " [ 2.    2.25  2.5 ]\n",
      " [ 2.75  3.    3.25]\n",
      " [ 3.5   3.75  4.  ]\n",
      " [ 4.25  4.5   4.75]\n",
      " [ 5.    5.25  5.5 ]\n",
      " [ 5.75  6.    6.25]\n",
      " [ 6.5   6.75  7.  ]\n",
      " [ 7.25  7.5   7.75]\n",
      " [ 8.    8.25  8.5 ]\n",
      " [ 8.75  9.    9.25]]\n",
      "Split myarray4 into 3 equal parts:\n",
      "Part 1:\n",
      " [[-1.   -0.75 -0.5 ]\n",
      " [-0.25  0.    0.25]\n",
      " [ 0.5   0.75  1.  ]\n",
      " [ 1.25  1.5   1.75]\n",
      " [ 2.    2.25  2.5 ]]\n",
      "Part 2:\n",
      " [[2.75 3.   3.25]\n",
      " [3.5  3.75 4.  ]\n",
      " [4.25 4.5  4.75]\n",
      " [5.   5.25 5.5 ]\n",
      " [5.75 6.   6.25]]\n",
      "Part 3:\n",
      " [[6.5  6.75 7.  ]\n",
      " [7.25 7.5  7.75]\n",
      " [8.   8.25 8.5 ]\n",
      " [8.75 9.   9.25]]\n",
      "Sum of all elements in myarray4: 173.25\n",
      "Row-wise sum of elements in myarray4: [-2.25  0.    2.25  4.5   6.75  9.   11.25 13.5  15.75 18.   20.25 22.5\n",
      " 24.75 27.  ]\n",
      "Column-wise sum of elements in myarray4: [54.25 57.75 61.25]\n",
      "Maximum value in myarray4: 9.25\n",
      "Minimum values in each row of myarray4: [-1.   -0.25  0.5   1.25  2.    2.75  3.5   4.25  5.    5.75  6.5   7.25\n",
      "  8.    8.75]\n",
      "Mean of elements in each row of myarray4: [-0.75  0.    0.75  1.5   2.25  3.    3.75  4.5   5.25  6.    6.75  7.5\n",
      "  8.25  9.  ]\n",
      "Column-wise standard deviation of elements in myarray4: [3.02334666 3.02334666 3.02334666]\n"
     ]
    }
   ],
   "source": [
    "transpose_ones = ones.T\n",
    "transpose_myarray2 = myarray2.T\n",
    "\n",
    "print(\"Transpose of ones:\\n\", transpose_ones)\n",
    "print(\"Transpose of myarray2:\\n\", transpose_myarray2)\n",
    "\n",
    "sorted_vowels = np.sort(vowels)[::-1]\n",
    "print(\"Sorted vowels in reverse order:\", sorted_vowels)\n",
    "\n",
    "sorted_myarray1 = np.sort(myarray1, axis=0)\n",
    "print(\"Sorted myarray1 with the lowest values in the first row:\\n\", sorted_myarray1)\n",
    "\n",
    "myarray4 = np.arange(-1, -1 + (14 * 3 * 0.25), 0.25).reshape(14, 3)\n",
    "print(\"myarray4:\\n\", myarray4)\n",
    "\n",
    "split_myarray4 = np.array_split(myarray4, 3)\n",
    "print(\"Split myarray4 into 3 equal parts:\")\n",
    "for idx, part in enumerate(split_myarray4):\n",
    "    print(f\"Part {idx + 1}:\\n\", part)\n",
    "\n",
    "total_sum = np.sum(myarray4)\n",
    "print(\"Sum of all elements in myarray4:\", total_sum)\n",
    "\n",
    "row_sum = np.sum(myarray4, axis=1)\n",
    "print(\"Row-wise sum of elements in myarray4:\", row_sum)\n",
    "\n",
    "col_sum = np.sum(myarray4, axis=0)\n",
    "print(\"Column-wise sum of elements in myarray4:\", col_sum)\n",
    "\n",
    "max_value = np.max(myarray4)\n",
    "print(\"Maximum value in myarray4:\", max_value)\n",
    "\n",
    "min_row_values = np.min(myarray4, axis=1)\n",
    "print(\"Minimum values in each row of myarray4:\", min_row_values)\n",
    "\n",
    "mean_row_values = np.mean(myarray4, axis=1)\n",
    "print(\"Mean of elements in each row of myarray4:\", mean_row_values)\n",
    "\n",
    "std_dev_col = np.std(myarray4, axis=0)\n",
    "print(\"Column-wise standard deviation of elements in myarray4:\", std_dev_col)\n"
   ]
  },
  {
   "cell_type": "code",
   "execution_count": 37,
   "id": "bb842b6b-e1c4-4899-90b9-4120d9790aa1",
   "metadata": {},
   "outputs": [
    {
     "name": "stdout",
     "output_type": "stream",
     "text": [
      "Sum of all elements in myarray4: 173.25\n",
      "Row-wise sum of elements in myarray4: [-2.25  0.    2.25  4.5   6.75  9.   11.25 13.5  15.75 18.   20.25 22.5\n",
      " 24.75 27.  ]\n",
      "Column-wise sum of elements in myarray4: [54.25 57.75 61.25]\n",
      "Maximum value in myarray4: 9.25\n",
      "Minimum values in each row of myarray4: [-1.   -0.25  0.5   1.25  2.    2.75  3.5   4.25  5.    5.75  6.5   7.25\n",
      "  8.    8.75]\n",
      "Mean of elements in each row of myarray4: [-0.75  0.    0.75  1.5   2.25  3.    3.75  4.5   5.25  6.    6.75  7.5\n",
      "  8.25  9.  ]\n",
      "Column-wise standard deviation of elements in myarray4: [3.02334666 3.02334666 3.02334666]\n"
     ]
    }
   ],
   "source": [
    "total_sum = np.sum(myarray4)\n",
    "print(\"Sum of all elements in myarray4:\", total_sum)\n",
    "\n",
    "row_sum = np.sum(myarray4, axis=1)\n",
    "print(\"Row-wise sum of elements in myarray4:\", row_sum)\n",
    "\n",
    "col_sum = np.sum(myarray4, axis=0)\n",
    "print(\"Column-wise sum of elements in myarray4:\", col_sum)\n",
    "\n",
    "max_value = np.max(myarray4)\n",
    "print(\"Maximum value in myarray4:\", max_value)\n",
    "\n",
    "min_row_values = np.min(myarray4, axis=1)\n",
    "print(\"Minimum values in each row of myarray4:\", min_row_values)\n",
    "\n",
    "mean_row_values = np.mean(myarray4, axis=1)\n",
    "print(\"Mean of elements in each row of myarray4:\", mean_row_values)\n",
    "\n",
    "std_dev_col = np.std(myarray4, axis=0)\n",
    "print(\"Column-wise standard deviation of elements in myarray4:\", std_dev_col)\n"
   ]
  },
  {
   "cell_type": "code",
   "execution_count": 43,
   "id": "068d6605-8290-4451-ad1e-5be7d6031029",
   "metadata": {},
   "outputs": [
    {
     "name": "stdout",
     "output_type": "stream",
     "text": [
      "The closest capital city to Riyadh is Berlin with a distance of 43.36 units.\n"
     ]
    }
   ],
   "source": [
    "import numpy as np\n",
    "\n",
    "riyadh_coords = np.array([24.7136, 46.6753])\n",
    "\n",
    "capitals = np.array([\n",
    "    [\"Washington, D.C.\", 38.9072, -77.0369],\n",
    "    [\"London\", 51.5074, -0.1278],\n",
    "    [\"Berlin\", 52.52, 13.4050],\n",
    "    [\"Tokyo\", 35.6762, 139.6503],\n",
    "    [\"Paris\", 48.8566, 2.3522],\n",
    "])\n",
    "\n",
    "capital_coords = capitals[:, 1:].astype(float)\n",
    "\n",
    "distances = np.linalg.norm(capital_coords - riyadh_coords, axis=1)\n",
    "\n",
    "min_distance_index = np.argmin(distances)\n",
    "closest_capital = capitals[min_distance_index]\n",
    "\n",
    "print(f\"The closest capital city to Riyadh is {closest_capital[0]} with a distance of {distances[min_distance_index]:.2f} units.\")\n"
   ]
  },
  {
   "cell_type": "code",
   "execution_count": 47,
   "id": "e33fadb9-bd27-4945-b07a-5a393869152c",
   "metadata": {},
   "outputs": [],
   "source": [
    "myarray2_reshaped = myarray2[:, :3] \n",
    "\n",
    "add_arrays = myarray1 + myarray2_reshaped"
   ]
  },
  {
   "cell_type": "code",
   "execution_count": 49,
   "id": "fa467fe3-7577-459d-8289-0d930d21bd7f",
   "metadata": {},
   "outputs": [
    {
     "name": "stdout",
     "output_type": "stream",
     "text": [
      "Transposed ones array:\n",
      " [[1 1]\n",
      " [1 1]\n",
      " [1 1]\n",
      " [1 1]\n",
      " [1 1]]\n",
      "Transposed myarray2:\n",
      " [[ 4. 24. 44.]\n",
      " [ 8. 28. 48.]\n",
      " [12. 32. 52.]\n",
      " [16. 36. 56.]\n",
      " [20. 40. 60.]]\n"
     ]
    }
   ],
   "source": [
    "ones_transposed = ones.T\n",
    "myarray2_transposed = myarray2.T\n",
    "\n",
    "print(\"Transposed ones array:\\n\", ones_transposed)\n",
    "print(\"Transposed myarray2:\\n\", myarray2_transposed)"
   ]
  },
  {
   "cell_type": "code",
   "execution_count": 51,
   "id": "b618518d-7d3b-464d-a2a0-fc1a16ec2e55",
   "metadata": {},
   "outputs": [
    {
     "name": "stdout",
     "output_type": "stream",
     "text": [
      "Sorted vowels array in reverse order: ['u' 'o' 'i' 'e' 'a']\n"
     ]
    }
   ],
   "source": [
    "sorted_vowels = np.sort(vowels)[::-1]\n",
    "print(\"Sorted vowels array in reverse order:\", sorted_vowels)"
   ]
  },
  {
   "cell_type": "code",
   "execution_count": 53,
   "id": "47248239-18d6-46c3-94f6-5a47e036e604",
   "metadata": {},
   "outputs": [
    {
     "name": "stdout",
     "output_type": "stream",
     "text": [
      "Sorted myarray1 by columns:\n",
      " [[-19.    0.   -2. ]\n",
      " [  2.7  10.6   0. ]\n",
      " [  3.4  99.9  13. ]]\n"
     ]
    }
   ],
   "source": [
    "sorted_myarray1 = np.sort(myarray1, axis=0)\n",
    "print(\"Sorted myarray1 by columns:\\n\", sorted_myarray1)"
   ]
  },
  {
   "cell_type": "code",
   "execution_count": 55,
   "id": "21b02cc5-96f4-4bdc-a584-c0407237285e",
   "metadata": {},
   "outputs": [
    {
     "name": "stdout",
     "output_type": "stream",
     "text": [
      "myarray4:\n",
      " [[-1.   -0.75 -0.5 ]\n",
      " [-0.25  0.    0.25]\n",
      " [ 0.5   0.75  1.  ]\n",
      " [ 1.25  1.5   1.75]\n",
      " [ 2.    2.25  2.5 ]\n",
      " [ 2.75  3.    3.25]\n",
      " [ 3.5   3.75  4.  ]\n",
      " [ 4.25  4.5   4.75]\n",
      " [ 5.    5.25  5.5 ]\n",
      " [ 5.75  6.    6.25]\n",
      " [ 6.5   6.75  7.  ]\n",
      " [ 7.25  7.5   7.75]\n",
      " [ 8.    8.25  8.5 ]\n",
      " [ 8.75  9.    9.25]]\n"
     ]
    }
   ],
   "source": [
    "myarray4 = np.arange(-1, -1 + 14 * 3 * 0.25, 0.25).reshape(14, 3)\n",
    "print(\"myarray4:\\n\", myarray4)"
   ]
  },
  {
   "cell_type": "code",
   "execution_count": 59,
   "id": "21ad7f66-8c8a-46a5-b0fa-539e6201b3a4",
   "metadata": {},
   "outputs": [
    {
     "name": "stdout",
     "output_type": "stream",
     "text": [
      "myarray4:\n",
      " [[-1.   -0.75 -0.5 ]\n",
      " [-0.25  0.    0.25]\n",
      " [ 0.5   0.75  1.  ]\n",
      " [ 1.25  1.5   1.75]\n",
      " [ 2.    2.25  2.5 ]\n",
      " [ 2.75  3.    3.25]\n",
      " [ 3.5   3.75  4.  ]\n",
      " [ 4.25  4.5   4.75]\n",
      " [ 5.    5.25  5.5 ]\n",
      " [ 5.75  6.    6.25]\n",
      " [ 6.5   6.75  7.  ]\n",
      " [ 7.25  7.5   7.75]\n",
      " [ 8.    8.25  8.5 ]\n",
      " [ 8.75  9.    9.25]]\n",
      "Split myarray4 into 3 parts:\n",
      "Part 1:\n",
      " [[-1.   -0.75 -0.5 ]\n",
      " [-0.25  0.    0.25]\n",
      " [ 0.5   0.75  1.  ]\n",
      " [ 1.25  1.5   1.75]\n",
      " [ 2.    2.25  2.5 ]]\n",
      "Part 2:\n",
      " [[2.75 3.   3.25]\n",
      " [3.5  3.75 4.  ]\n",
      " [4.25 4.5  4.75]\n",
      " [5.   5.25 5.5 ]\n",
      " [5.75 6.   6.25]]\n",
      "Part 3:\n",
      " [[6.5  6.75 7.  ]\n",
      " [7.25 7.5  7.75]\n",
      " [8.   8.25 8.5 ]\n",
      " [8.75 9.   9.25]]\n"
     ]
    }
   ],
   "source": [
    "myarray4 = np.arange(-1, -1 + 14 * 3 * 0.25, 0.25).reshape(14, 3)\n",
    "print(\"myarray4:\\n\", myarray4)\n",
    "\n",
    "split_array = np.array_split(myarray4, 3, axis=0)\n",
    "print(\"Split myarray4 into 3 parts:\")\n",
    "\n",
    "for i, part in enumerate(split_array):\n",
    "    print(f\"Part {i+1}:\\n\", part)\n"
   ]
  },
  {
   "cell_type": "code",
   "execution_count": 61,
   "id": "eca12494-744c-44ef-bccc-8095d9b3f2b8",
   "metadata": {},
   "outputs": [
    {
     "name": "stdout",
     "output_type": "stream",
     "text": [
      "Sum of all elements: 173.25\n",
      "Sum of elements row-wise:\n",
      "[-2.25  0.    2.25  4.5   6.75  9.   11.25 13.5  15.75 18.   20.25 22.5\n",
      " 24.75 27.  ]\n",
      "Sum of elements column-wise:\n",
      "[54.25 57.75 61.25]\n",
      "Maximum value in myarray4: 9.25\n",
      "Minimum value in each row:\n",
      "[-1.   -0.25  0.5   1.25  2.    2.75  3.5   4.25  5.    5.75  6.5   7.25\n",
      "  8.    8.75]\n",
      "Mean value in each row:\n",
      "[-0.75  0.    0.75  1.5   2.25  3.    3.75  4.5   5.25  6.    6.75  7.5\n",
      "  8.25  9.  ]\n",
      "Standard deviation column-wise:\n",
      "[3.02334666 3.02334666 3.02334666]\n"
     ]
    }
   ],
   "source": [
    "total_sum = np.sum(myarray4)\n",
    "print(f\"Sum of all elements: {total_sum}\")\n",
    "\n",
    "row_sum = np.sum(myarray4, axis=1)\n",
    "print(f\"Sum of elements row-wise:\\n{row_sum}\")\n",
    "\n",
    "col_sum = np.sum(myarray4, axis=0)\n",
    "print(f\"Sum of elements column-wise:\\n{col_sum}\")\n",
    "\n",
    "max_value = np.max(myarray4)\n",
    "print(f\"Maximum value in myarray4: {max_value}\")\n",
    "\n",
    "min_value_row = np.min(myarray4, axis=1)\n",
    "print(f\"Minimum value in each row:\\n{min_value_row}\")\n",
    "\n",
    "mean_value_row = np.mean(myarray4, axis=1)\n",
    "print(f\"Mean value in each row:\\n{mean_value_row}\")\n",
    "\n",
    "std_dev_col = np.std(myarray4, axis=0)\n",
    "print(f\"Standard deviation column-wise:\\n{std_dev_col}\")\n"
   ]
  },
  {
   "cell_type": "code",
   "execution_count": 63,
   "id": "97daa33e-27bf-4eea-87ea-e8195759e2cd",
   "metadata": {},
   "outputs": [
    {
     "name": "stdout",
     "output_type": "stream",
     "text": [
      "The closest capital city to Riyadh is Cairo with a distance of 16.33 km.\n"
     ]
    }
   ],
   "source": [
    "import numpy as np\n",
    "\n",
    "riyadh_coordinates = np.array([24.7136, 46.6753])  \n",
    "\n",
    "capital_cities = {\n",
    "    'Cairo': np.array([30.0330, 31.2330]),\n",
    "    'London': np.array([51.5074, -0.1278]),\n",
    "    'Paris': np.array([48.8566, 2.3522]),\n",
    "    'New York': np.array([40.7128, -74.0060]),\n",
    "    'Tokyo': np.array([35.6762, 139.6503])\n",
    "}\n",
    "\n",
    "distances = {}\n",
    "for city, coordinates in capital_cities.items():\n",
    "    distance = np.linalg.norm(coordinates - riyadh_coordinates) \n",
    "    distances[city] = distance\n",
    "\n",
    "closest_city = min(distances, key=distances.get)\n",
    "closest_city_distance = distances[closest_city]\n",
    "\n",
    "print(f\"The closest capital city to Riyadh is {closest_city} with a distance of {closest_city_distance:.2f} km.\")\n"
   ]
  },
  {
   "cell_type": "code",
   "execution_count": 65,
   "id": "681b2caa-586c-42fa-81d6-e50641348ba5",
   "metadata": {},
   "outputs": [
    {
     "name": "stdout",
     "output_type": "stream",
     "text": [
      "Top 10 Closest Capital Cities to Washington DC:\n",
      "1. New York - Coordinates: [ 40.7128 -74.006 ] - Distance: 3.53 km\n",
      "2. Mexico City - Coordinates: [ 19.4326 -99.1332] - Distance: 29.45 km\n",
      "3. Sao Paulo - Coordinates: [-23.5505 -46.6333] - Distance: 69.46 km\n",
      "4. Madrid - Coordinates: [40.4168 -3.7038] - Distance: 73.35 km\n",
      "5. Buenos Aires - Coordinates: [-34.6037 -58.3816] - Distance: 75.84 km\n",
      "6. London - Coordinates: [51.5074 -0.1278] - Distance: 77.93 km\n",
      "7. Paris - Coordinates: [48.8566  2.3522] - Distance: 80.01 km\n",
      "8. Rome - Coordinates: [41.9028 12.4964] - Distance: 89.58 km\n",
      "9. Berlin - Coordinates: [52.52  13.405] - Distance: 91.46 km\n",
      "10. Cairo - Coordinates: [30.033 31.233] - Distance: 108.63 km\n"
     ]
    }
   ],
   "source": [
    "import numpy as np\n",
    "\n",
    "washington_coordinates = np.array([38.9072, -77.0369])\n",
    "\n",
    "capital_cities = {\n",
    "    'Cairo': np.array([30.0330, 31.2330]),\n",
    "    'London': np.array([51.5074, -0.1278]),\n",
    "    'Paris': np.array([48.8566, 2.3522]),\n",
    "    'New York': np.array([40.7128, -74.0060]),\n",
    "    'Tokyo': np.array([35.6762, 139.6503]),\n",
    "    'Berlin': np.array([52.5200, 13.4050]),\n",
    "    'Rome': np.array([41.9028, 12.4964]),\n",
    "    'Moscow': np.array([55.7558, 37.6173]),\n",
    "    'Beijing': np.array([39.9042, 116.4074]),\n",
    "    'Buenos Aires': np.array([-34.6037, -58.3816]),\n",
    "    'Mexico City': np.array([19.4326, -99.1332]),\n",
    "    'Sao Paulo': np.array([-23.5505, -46.6333]),\n",
    "    'Seoul': np.array([37.5665, 126.9780]),\n",
    "    'Madrid': np.array([40.4168, -3.7038])\n",
    "}\n",
    "\n",
    "distances = {}\n",
    "for city, coordinates in capital_cities.items():\n",
    "    distance = np.linalg.norm(coordinates - washington_coordinates) \n",
    "    distances[city] = distance\n",
    "\n",
    "sorted_capitals = sorted(distances.items(), key=lambda item: item[1])\n",
    "\n",
    "print(\"Top 10 Closest Capital Cities to Washington DC:\")\n",
    "for i in range(min(10, len(sorted_capitals))):\n",
    "    city, distance = sorted_capitals[i]\n",
    "    print(f\"{i+1}. {city} - Coordinates: {capital_cities[city]} - Distance: {distance:.2f} km\")"
   ]
  },
  {
   "cell_type": "code",
   "execution_count": null,
   "id": "4058772d-f4fe-4eab-9926-02f79da100f8",
   "metadata": {},
   "outputs": [],
   "source": []
  }
 ],
 "metadata": {
  "kernelspec": {
   "display_name": "Python 3 (ipykernel)",
   "language": "python",
   "name": "python3"
  },
  "language_info": {
   "codemirror_mode": {
    "name": "ipython",
    "version": 3
   },
   "file_extension": ".py",
   "mimetype": "text/x-python",
   "name": "python",
   "nbconvert_exporter": "python",
   "pygments_lexer": "ipython3",
   "version": "3.12.4"
  }
 },
 "nbformat": 4,
 "nbformat_minor": 5
}
